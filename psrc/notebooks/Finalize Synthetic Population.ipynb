{
 "cells": [
  {
   "cell_type": "code",
   "execution_count": 167,
   "metadata": {},
   "outputs": [],
   "source": [
    "import os\n",
    "import pandas as pd"
   ]
  },
  {
   "cell_type": "code",
   "execution_count": 168,
   "metadata": {},
   "outputs": [],
   "source": [
    "cwd = os.getcwd()\n",
    "df_syn_pop = pd.read_csv(os.path.join(os.path.dirname(cwd), 'output', 'adjusted_synthetic_persons.csv'))\n",
    "df_syn_hh = pd.read_csv(os.path.join(os.path.dirname(cwd), 'output', 'adjusted_synthetic_households.csv'))"
   ]
  },
  {
   "cell_type": "code",
   "execution_count": 170,
   "metadata": {},
   "outputs": [],
   "source": [
    "# Attach original seed person/household records\n",
    "df_seed_pop = pd.read_csv(r'R:\\e2projects_two\\SyntheticPopulation_2018\\populationsim_inputs\\data\\seed_persons.csv')\n",
    "df_seed_hh = pd.read_csv(r'R:\\e2projects_two\\SyntheticPopulation_2018\\populationsim_inputs\\data\\seed_households.csv')"
   ]
  },
  {
   "cell_type": "code",
   "execution_count": 171,
   "metadata": {},
   "outputs": [],
   "source": [
    "# Person Records\n",
    "df_new_pop = df_syn_pop.merge(df_seed_pop[['ESR','PINCP','SCHL','SCHG','WKHP','RELP','hhnum','SPORDER']],\n",
    "                left_on=['hh_id','per_num'], right_on=['hhnum','SPORDER'])\n",
    "df_new_pop.columns = [i.lower() for i in df_new_pop.columns]"
   ]
  },
  {
   "cell_type": "code",
   "execution_count": 172,
   "metadata": {},
   "outputs": [
    {
     "data": {
      "text/plain": [
       "True"
      ]
     },
     "execution_count": 172,
     "metadata": {},
     "output_type": "execute_result"
    }
   ],
   "source": [
    "len(df_syn_pop) == len(df_new_pop)"
   ]
  },
  {
   "cell_type": "code",
   "execution_count": 173,
   "metadata": {},
   "outputs": [],
   "source": [
    "# Household Records\n",
    "df_new_hh = df_syn_hh.merge(df_seed_hh[['hhnum','TEN','PUMA','NP']], left_on=['hh_id','PUMA','NP'], \n",
    "                            right_on=['hhnum','PUMA','NP'], how='left')"
   ]
  },
  {
   "cell_type": "code",
   "execution_count": 174,
   "metadata": {},
   "outputs": [
    {
     "data": {
      "text/plain": [
       "True"
      ]
     },
     "execution_count": 174,
     "metadata": {},
     "output_type": "execute_result"
    }
   ],
   "source": [
    "len(df_new_hh) == len(df_syn_hh)"
   ]
  },
  {
   "cell_type": "code",
   "execution_count": 175,
   "metadata": {},
   "outputs": [],
   "source": [
    "block_group_table = pd.read_csv(r'R:\\e2projects_two\\2018_base_year\\synthetic_population\\census_block_groups.csv')"
   ]
  },
  {
   "cell_type": "code",
   "execution_count": 176,
   "metadata": {},
   "outputs": [],
   "source": [
    "# Drop leading zeros to match format of synthetic population\n",
    "block_group_table['state'] = block_group_table['census_2010_block_group_id'].apply(lambda x: int(str(x)[0:2]))\n",
    "block_group_table['county'] = block_group_table['census_2010_block_group_id'].apply(lambda x: int(str(x)[3:5]))\n",
    "block_group_table['tract'] = block_group_table['census_2010_block_group_id'].apply(lambda x: int(str(x)[5:11]))\n",
    "block_group_table['block_group'] = block_group_table['census_2010_block_group_id'].apply(lambda x: int(str(x)[11:]))\n",
    "\n",
    "block_group_table['newid'] = block_group_table['state'].astype('str') + block_group_table['county'].astype('str') + block_group_table['tract'].astype('str') + block_group_table['block_group'].astype('str')\n",
    "# block_group_table['newid'] = block_group_table['newid'].astype('int')"
   ]
  },
  {
   "cell_type": "code",
   "execution_count": 177,
   "metadata": {},
   "outputs": [],
   "source": [
    "df_new_hh['newid'] = df_new_hh['block_group_id'].astype('str')\n",
    "df = block_group_table.merge(df_new_hh, on='newid')"
   ]
  },
  {
   "cell_type": "code",
   "execution_count": null,
   "metadata": {},
   "outputs": [],
   "source": []
  },
  {
   "cell_type": "code",
   "execution_count": 193,
   "metadata": {},
   "outputs": [],
   "source": [
    "df.to_csv(r'C:\\Users\\bnichols\\Documents\\populationsim\\psrc\\output\\finalized\\adjusted_synthetic_households.csv', index=False)"
   ]
  },
  {
   "cell_type": "code",
   "execution_count": 178,
   "metadata": {},
   "outputs": [],
   "source": [
    "df_new_pop['newid'] = df_new_pop['block_group_id'].astype('str')\n",
    "df_person = block_group_table.merge(df_new_pop, on='newid')"
   ]
  },
  {
   "cell_type": "code",
   "execution_count": 179,
   "metadata": {},
   "outputs": [],
   "source": [
    "df_person['new_per_num'] = df_person['new_per_num'].fillna(df_person['sporder'])"
   ]
  },
  {
   "cell_type": "code",
   "execution_count": 194,
   "metadata": {},
   "outputs": [],
   "source": [
    "df_person.to_csv(r'C:\\Users\\bnichols\\Documents\\populationsim\\psrc\\output\\finalized\\adjusted_synthetic_persons.csv', index=False)"
   ]
  }
 ],
 "metadata": {
  "kernelspec": {
   "display_name": "Python 2",
   "language": "python",
   "name": "python2"
  },
  "language_info": {
   "codemirror_mode": {
    "name": "ipython",
    "version": 2
   },
   "file_extension": ".py",
   "mimetype": "text/x-python",
   "name": "python",
   "nbconvert_exporter": "python",
   "pygments_lexer": "ipython2",
   "version": "2.7.14"
  }
 },
 "nbformat": 4,
 "nbformat_minor": 2
}
