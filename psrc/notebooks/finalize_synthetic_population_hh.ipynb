{
 "cells": [
  {
   "cell_type": "code",
   "execution_count": 194,
   "metadata": {
    "collapsed": true
   },
   "outputs": [],
   "source": [
    "import pandas as pd"
   ]
  },
  {
   "cell_type": "code",
   "execution_count": 5,
   "metadata": {
    "collapsed": true
   },
   "outputs": [],
   "source": [
    "# Add columns from seed person and houeshold data to final output"
   ]
  },
  {
   "cell_type": "code",
   "execution_count": 6,
   "metadata": {
    "collapsed": true
   },
   "outputs": [],
   "source": [
    "df_syn_pop = pd.read_csv(r'R:\\e2projects_two\\2018_base_year\\synthetic_population\\adjusted_synthetic_persons.csv')"
   ]
  },
  {
   "cell_type": "code",
   "execution_count": 7,
   "metadata": {
    "collapsed": true
   },
   "outputs": [],
   "source": [
    "df_syn_hh = pd.read_csv(r'R:\\e2projects_two\\2018_base_year\\synthetic_population\\adjusted_synthetic_households.csv')"
   ]
  },
  {
   "cell_type": "code",
   "execution_count": 8,
   "metadata": {
    "collapsed": true
   },
   "outputs": [],
   "source": [
    "df_seed_pop = pd.read_csv(r'R:\\e2projects_two\\SyntheticPopulation_2018\\populationsim_inputs\\data\\seed_persons.csv')"
   ]
  },
  {
   "cell_type": "code",
   "execution_count": 9,
   "metadata": {
    "collapsed": true
   },
   "outputs": [],
   "source": [
    "df_seed_hh = pd.read_csv(r'R:\\e2projects_two\\SyntheticPopulation_2018\\populationsim_inputs\\data\\seed_households.csv')"
   ]
  },
  {
   "cell_type": "code",
   "execution_count": 10,
   "metadata": {
    "collapsed": false
   },
   "outputs": [
    {
     "data": {
      "text/html": [
       "<div>\n",
       "<style scoped>\n",
       "    .dataframe tbody tr th:only-of-type {\n",
       "        vertical-align: middle;\n",
       "    }\n",
       "\n",
       "    .dataframe tbody tr th {\n",
       "        vertical-align: top;\n",
       "    }\n",
       "\n",
       "    .dataframe thead th {\n",
       "        text-align: right;\n",
       "    }\n",
       "</style>\n",
       "<table border=\"1\" class=\"dataframe\">\n",
       "  <thead>\n",
       "    <tr style=\"text-align: right;\">\n",
       "      <th></th>\n",
       "      <th>PUMA</th>\n",
       "      <th>block_group_id</th>\n",
       "      <th>hh_id</th>\n",
       "      <th>household_id</th>\n",
       "      <th>AGEP</th>\n",
       "      <th>SEX</th>\n",
       "      <th>SCH</th>\n",
       "      <th>is_worker</th>\n",
       "      <th>per_num</th>\n",
       "      <th>NP</th>\n",
       "      <th>person_id</th>\n",
       "      <th>clone</th>\n",
       "      <th>new_per_num</th>\n",
       "    </tr>\n",
       "  </thead>\n",
       "  <tbody>\n",
       "    <tr>\n",
       "      <th>0</th>\n",
       "      <td>11802</td>\n",
       "      <td>5335919001</td>\n",
       "      <td>63683</td>\n",
       "      <td>1</td>\n",
       "      <td>27</td>\n",
       "      <td>1</td>\n",
       "      <td>1.0</td>\n",
       "      <td>1</td>\n",
       "      <td>1</td>\n",
       "      <td>1</td>\n",
       "      <td>1</td>\n",
       "      <td>0</td>\n",
       "      <td>NaN</td>\n",
       "    </tr>\n",
       "    <tr>\n",
       "      <th>1</th>\n",
       "      <td>11802</td>\n",
       "      <td>5335919001</td>\n",
       "      <td>62898</td>\n",
       "      <td>2</td>\n",
       "      <td>33</td>\n",
       "      <td>1</td>\n",
       "      <td>1.0</td>\n",
       "      <td>1</td>\n",
       "      <td>1</td>\n",
       "      <td>1</td>\n",
       "      <td>2</td>\n",
       "      <td>0</td>\n",
       "      <td>NaN</td>\n",
       "    </tr>\n",
       "    <tr>\n",
       "      <th>2</th>\n",
       "      <td>11802</td>\n",
       "      <td>5335919001</td>\n",
       "      <td>38731</td>\n",
       "      <td>3</td>\n",
       "      <td>73</td>\n",
       "      <td>2</td>\n",
       "      <td>1.0</td>\n",
       "      <td>0</td>\n",
       "      <td>1</td>\n",
       "      <td>1</td>\n",
       "      <td>3</td>\n",
       "      <td>0</td>\n",
       "      <td>NaN</td>\n",
       "    </tr>\n",
       "    <tr>\n",
       "      <th>3</th>\n",
       "      <td>11802</td>\n",
       "      <td>5335919001</td>\n",
       "      <td>8704</td>\n",
       "      <td>4</td>\n",
       "      <td>65</td>\n",
       "      <td>2</td>\n",
       "      <td>1.0</td>\n",
       "      <td>0</td>\n",
       "      <td>1</td>\n",
       "      <td>1</td>\n",
       "      <td>4</td>\n",
       "      <td>0</td>\n",
       "      <td>NaN</td>\n",
       "    </tr>\n",
       "    <tr>\n",
       "      <th>4</th>\n",
       "      <td>11802</td>\n",
       "      <td>5335919001</td>\n",
       "      <td>2637</td>\n",
       "      <td>5</td>\n",
       "      <td>67</td>\n",
       "      <td>1</td>\n",
       "      <td>1.0</td>\n",
       "      <td>1</td>\n",
       "      <td>1</td>\n",
       "      <td>1</td>\n",
       "      <td>5</td>\n",
       "      <td>0</td>\n",
       "      <td>NaN</td>\n",
       "    </tr>\n",
       "  </tbody>\n",
       "</table>\n",
       "</div>"
      ],
      "text/plain": [
       "    PUMA  block_group_id  hh_id  household_id  AGEP  SEX  SCH  is_worker  \\\n",
       "0  11802      5335919001  63683             1    27    1  1.0          1   \n",
       "1  11802      5335919001  62898             2    33    1  1.0          1   \n",
       "2  11802      5335919001  38731             3    73    2  1.0          0   \n",
       "3  11802      5335919001   8704             4    65    2  1.0          0   \n",
       "4  11802      5335919001   2637             5    67    1  1.0          1   \n",
       "\n",
       "   per_num  NP  person_id  clone  new_per_num  \n",
       "0        1   1          1      0          NaN  \n",
       "1        1   1          2      0          NaN  \n",
       "2        1   1          3      0          NaN  \n",
       "3        1   1          4      0          NaN  \n",
       "4        1   1          5      0          NaN  "
      ]
     },
     "execution_count": 10,
     "metadata": {},
     "output_type": "execute_result"
    }
   ],
   "source": [
    "df_syn_pop.head()"
   ]
  },
  {
   "cell_type": "code",
   "execution_count": 11,
   "metadata": {
    "collapsed": false
   },
   "outputs": [
    {
     "data": {
      "text/html": [
       "<div>\n",
       "<style scoped>\n",
       "    .dataframe tbody tr th:only-of-type {\n",
       "        vertical-align: middle;\n",
       "    }\n",
       "\n",
       "    .dataframe tbody tr th {\n",
       "        vertical-align: top;\n",
       "    }\n",
       "\n",
       "    .dataframe thead th {\n",
       "        text-align: right;\n",
       "    }\n",
       "</style>\n",
       "<table border=\"1\" class=\"dataframe\">\n",
       "  <thead>\n",
       "    <tr style=\"text-align: right;\">\n",
       "      <th></th>\n",
       "      <th>SERIALNO</th>\n",
       "      <th>RT</th>\n",
       "      <th>SERIALNO.1</th>\n",
       "      <th>DIVISION</th>\n",
       "      <th>SPORDER</th>\n",
       "      <th>PUMA</th>\n",
       "      <th>REGION</th>\n",
       "      <th>ST</th>\n",
       "      <th>ADJINC</th>\n",
       "      <th>PWGTP</th>\n",
       "      <th>...</th>\n",
       "      <th>PWGTP74</th>\n",
       "      <th>PWGTP75</th>\n",
       "      <th>PWGTP76</th>\n",
       "      <th>PWGTP77</th>\n",
       "      <th>PWGTP78</th>\n",
       "      <th>PWGTP79</th>\n",
       "      <th>PWGTP80</th>\n",
       "      <th>hhnum</th>\n",
       "      <th>is_worker</th>\n",
       "      <th>non_worker</th>\n",
       "    </tr>\n",
       "  </thead>\n",
       "  <tbody>\n",
       "    <tr>\n",
       "      <th>0</th>\n",
       "      <td>2013000000006</td>\n",
       "      <td>P</td>\n",
       "      <td>2013000000006</td>\n",
       "      <td>9</td>\n",
       "      <td>1</td>\n",
       "      <td>11606</td>\n",
       "      <td>4</td>\n",
       "      <td>53</td>\n",
       "      <td>1061971</td>\n",
       "      <td>27</td>\n",
       "      <td>...</td>\n",
       "      <td>24</td>\n",
       "      <td>7</td>\n",
       "      <td>27</td>\n",
       "      <td>8</td>\n",
       "      <td>46</td>\n",
       "      <td>25</td>\n",
       "      <td>50</td>\n",
       "      <td>1</td>\n",
       "      <td>0</td>\n",
       "      <td>1</td>\n",
       "    </tr>\n",
       "    <tr>\n",
       "      <th>1</th>\n",
       "      <td>2013000000006</td>\n",
       "      <td>P</td>\n",
       "      <td>2013000000006</td>\n",
       "      <td>9</td>\n",
       "      <td>2</td>\n",
       "      <td>11606</td>\n",
       "      <td>4</td>\n",
       "      <td>53</td>\n",
       "      <td>1061971</td>\n",
       "      <td>22</td>\n",
       "      <td>...</td>\n",
       "      <td>20</td>\n",
       "      <td>7</td>\n",
       "      <td>25</td>\n",
       "      <td>8</td>\n",
       "      <td>41</td>\n",
       "      <td>22</td>\n",
       "      <td>47</td>\n",
       "      <td>1</td>\n",
       "      <td>0</td>\n",
       "      <td>1</td>\n",
       "    </tr>\n",
       "    <tr>\n",
       "      <th>2</th>\n",
       "      <td>2013000000038</td>\n",
       "      <td>P</td>\n",
       "      <td>2013000000038</td>\n",
       "      <td>9</td>\n",
       "      <td>1</td>\n",
       "      <td>11505</td>\n",
       "      <td>4</td>\n",
       "      <td>53</td>\n",
       "      <td>1061971</td>\n",
       "      <td>4</td>\n",
       "      <td>...</td>\n",
       "      <td>8</td>\n",
       "      <td>8</td>\n",
       "      <td>1</td>\n",
       "      <td>4</td>\n",
       "      <td>6</td>\n",
       "      <td>1</td>\n",
       "      <td>4</td>\n",
       "      <td>2</td>\n",
       "      <td>1</td>\n",
       "      <td>0</td>\n",
       "    </tr>\n",
       "    <tr>\n",
       "      <th>3</th>\n",
       "      <td>2013000000038</td>\n",
       "      <td>P</td>\n",
       "      <td>2013000000038</td>\n",
       "      <td>9</td>\n",
       "      <td>2</td>\n",
       "      <td>11505</td>\n",
       "      <td>4</td>\n",
       "      <td>53</td>\n",
       "      <td>1061971</td>\n",
       "      <td>4</td>\n",
       "      <td>...</td>\n",
       "      <td>8</td>\n",
       "      <td>7</td>\n",
       "      <td>1</td>\n",
       "      <td>4</td>\n",
       "      <td>7</td>\n",
       "      <td>2</td>\n",
       "      <td>4</td>\n",
       "      <td>2</td>\n",
       "      <td>1</td>\n",
       "      <td>0</td>\n",
       "    </tr>\n",
       "    <tr>\n",
       "      <th>4</th>\n",
       "      <td>2013000000038</td>\n",
       "      <td>P</td>\n",
       "      <td>2013000000038</td>\n",
       "      <td>9</td>\n",
       "      <td>3</td>\n",
       "      <td>11505</td>\n",
       "      <td>4</td>\n",
       "      <td>53</td>\n",
       "      <td>1061971</td>\n",
       "      <td>7</td>\n",
       "      <td>...</td>\n",
       "      <td>14</td>\n",
       "      <td>12</td>\n",
       "      <td>2</td>\n",
       "      <td>8</td>\n",
       "      <td>13</td>\n",
       "      <td>3</td>\n",
       "      <td>6</td>\n",
       "      <td>2</td>\n",
       "      <td>0</td>\n",
       "      <td>1</td>\n",
       "    </tr>\n",
       "  </tbody>\n",
       "</table>\n",
       "<p>5 rows × 290 columns</p>\n",
       "</div>"
      ],
      "text/plain": [
       "        SERIALNO RT     SERIALNO.1  DIVISION  SPORDER   PUMA  REGION  ST  \\\n",
       "0  2013000000006  P  2013000000006         9        1  11606       4  53   \n",
       "1  2013000000006  P  2013000000006         9        2  11606       4  53   \n",
       "2  2013000000038  P  2013000000038         9        1  11505       4  53   \n",
       "3  2013000000038  P  2013000000038         9        2  11505       4  53   \n",
       "4  2013000000038  P  2013000000038         9        3  11505       4  53   \n",
       "\n",
       "    ADJINC  PWGTP     ...      PWGTP74  PWGTP75  PWGTP76  PWGTP77  PWGTP78  \\\n",
       "0  1061971     27     ...           24        7       27        8       46   \n",
       "1  1061971     22     ...           20        7       25        8       41   \n",
       "2  1061971      4     ...            8        8        1        4        6   \n",
       "3  1061971      4     ...            8        7        1        4        7   \n",
       "4  1061971      7     ...           14       12        2        8       13   \n",
       "\n",
       "   PWGTP79  PWGTP80  hhnum  is_worker  non_worker  \n",
       "0       25       50      1          0           1  \n",
       "1       22       47      1          0           1  \n",
       "2        1        4      2          1           0  \n",
       "3        2        4      2          1           0  \n",
       "4        3        6      2          0           1  \n",
       "\n",
       "[5 rows x 290 columns]"
      ]
     },
     "execution_count": 11,
     "metadata": {},
     "output_type": "execute_result"
    }
   ],
   "source": [
    "df_seed_pop.head()"
   ]
  },
  {
   "cell_type": "code",
   "execution_count": 12,
   "metadata": {
    "collapsed": true
   },
   "outputs": [],
   "source": [
    "# Household Records\n",
    "df_new_pop = df_syn_pop.merge(df_seed_pop[['ESR','PINCP','SCHL','SCHG','WKHP','RELP','hhnum','SPORDER']],\n",
    "                left_on=['hh_id','per_num'], right_on=['hhnum','SPORDER'])\n",
    "df_new_pop.columns = [i.lower() for i in df_new_pop.columns]\n",
    "df_new_pop.drop(['new_per_num'], axis=1, inplace=True)"
   ]
  },
  {
   "cell_type": "code",
   "execution_count": 13,
   "metadata": {
    "collapsed": false
   },
   "outputs": [
    {
     "data": {
      "text/plain": [
       "4048896"
      ]
     },
     "execution_count": 13,
     "metadata": {},
     "output_type": "execute_result"
    }
   ],
   "source": [
    "len(df_new_pop)"
   ]
  },
  {
   "cell_type": "code",
   "execution_count": 14,
   "metadata": {
    "collapsed": true
   },
   "outputs": [],
   "source": [
    "# Load adjusted household seeds\n",
    "df_seed_hh_adj = pd.read_csv(r'R:\\e2projects_two\\2018_base_year\\synthetic_population\\adjusted_seed_households.csv')"
   ]
  },
  {
   "cell_type": "code",
   "execution_count": 15,
   "metadata": {
    "collapsed": true
   },
   "outputs": [],
   "source": [
    "# Household Records\n",
    "df_new_hh = df_syn_hh.merge(df_seed_hh_adj[['hhnum','TEN','PUMA','NP']], left_on=['hh_id','PUMA','NP'], \n",
    "                            right_on=['hhnum','PUMA','NP'], how='left')\n",
    "\n",
    "# Drop the NP column and replace with NP_adjusted - this represents the persons added to this household\n",
    "df_new_hh['NP'] = df_new_hh['NP_adjusted'].copy()\n",
    "df_new_hh.drop(['NP_adjusted','NP_adjusted','hh_id','new_pums_hh_id'], axis=1, inplace=True)"
   ]
  },
  {
   "cell_type": "code",
   "execution_count": 16,
   "metadata": {
    "collapsed": false
   },
   "outputs": [
    {
     "name": "stdout",
     "output_type": "stream",
     "text": [
      "1605264\n",
      "1605264\n"
     ]
    }
   ],
   "source": [
    "print(len(df_new_hh))\n",
    "print(len(df_syn_hh))"
   ]
  },
  {
   "cell_type": "code",
   "execution_count": 126,
   "metadata": {
    "collapsed": false
   },
   "outputs": [
    {
     "data": {
      "text/html": [
       "<div>\n",
       "<table border=\"1\" class=\"dataframe\">\n",
       "  <thead>\n",
       "    <tr style=\"text-align: right;\">\n",
       "      <th></th>\n",
       "      <th>household_id</th>\n",
       "      <th>PUMA</th>\n",
       "      <th>block_group_id</th>\n",
       "      <th>NP</th>\n",
       "      <th>VEH</th>\n",
       "      <th>worker_count</th>\n",
       "      <th>HHT</th>\n",
       "      <th>HINCP</th>\n",
       "      <th>WGTP</th>\n",
       "      <th>hhnum</th>\n",
       "      <th>TEN</th>\n",
       "    </tr>\n",
       "  </thead>\n",
       "  <tbody>\n",
       "    <tr>\n",
       "      <th>0</th>\n",
       "      <td>1</td>\n",
       "      <td>11802</td>\n",
       "      <td>5335919001</td>\n",
       "      <td>1</td>\n",
       "      <td>2.0</td>\n",
       "      <td>1</td>\n",
       "      <td>4.0</td>\n",
       "      <td>85000.0</td>\n",
       "      <td>30</td>\n",
       "      <td>63683</td>\n",
       "      <td>3.0</td>\n",
       "    </tr>\n",
       "    <tr>\n",
       "      <th>1</th>\n",
       "      <td>2</td>\n",
       "      <td>11802</td>\n",
       "      <td>5335919001</td>\n",
       "      <td>1</td>\n",
       "      <td>2.0</td>\n",
       "      <td>1</td>\n",
       "      <td>4.0</td>\n",
       "      <td>50000.0</td>\n",
       "      <td>45</td>\n",
       "      <td>62898</td>\n",
       "      <td>3.0</td>\n",
       "    </tr>\n",
       "    <tr>\n",
       "      <th>2</th>\n",
       "      <td>3</td>\n",
       "      <td>11802</td>\n",
       "      <td>5335919001</td>\n",
       "      <td>1</td>\n",
       "      <td>3.0</td>\n",
       "      <td>0</td>\n",
       "      <td>6.0</td>\n",
       "      <td>56000.0</td>\n",
       "      <td>64</td>\n",
       "      <td>38731</td>\n",
       "      <td>2.0</td>\n",
       "    </tr>\n",
       "    <tr>\n",
       "      <th>3</th>\n",
       "      <td>4</td>\n",
       "      <td>11802</td>\n",
       "      <td>5335919001</td>\n",
       "      <td>1</td>\n",
       "      <td>3.0</td>\n",
       "      <td>0</td>\n",
       "      <td>6.0</td>\n",
       "      <td>51000.0</td>\n",
       "      <td>42</td>\n",
       "      <td>8704</td>\n",
       "      <td>2.0</td>\n",
       "    </tr>\n",
       "    <tr>\n",
       "      <th>4</th>\n",
       "      <td>5</td>\n",
       "      <td>11802</td>\n",
       "      <td>5335919001</td>\n",
       "      <td>1</td>\n",
       "      <td>3.0</td>\n",
       "      <td>1</td>\n",
       "      <td>4.0</td>\n",
       "      <td>74050.0</td>\n",
       "      <td>24</td>\n",
       "      <td>2637</td>\n",
       "      <td>1.0</td>\n",
       "    </tr>\n",
       "  </tbody>\n",
       "</table>\n",
       "</div>"
      ],
      "text/plain": [
       "   household_id   PUMA  block_group_id  NP  VEH  worker_count  HHT    HINCP  \\\n",
       "0             1  11802      5335919001   1  2.0             1  4.0  85000.0   \n",
       "1             2  11802      5335919001   1  2.0             1  4.0  50000.0   \n",
       "2             3  11802      5335919001   1  3.0             0  6.0  56000.0   \n",
       "3             4  11802      5335919001   1  3.0             0  6.0  51000.0   \n",
       "4             5  11802      5335919001   1  3.0             1  4.0  74050.0   \n",
       "\n",
       "   WGTP  hhnum  TEN  \n",
       "0    30  63683  3.0  \n",
       "1    45  62898  3.0  \n",
       "2    64  38731  2.0  \n",
       "3    42   8704  2.0  \n",
       "4    24   2637  1.0  "
      ]
     },
     "execution_count": 126,
     "metadata": {},
     "output_type": "execute_result"
    }
   ],
   "source": [
    "df_new_hh.head()"
   ]
  },
  {
   "cell_type": "code",
   "execution_count": 17,
   "metadata": {
    "collapsed": true
   },
   "outputs": [],
   "source": [
    "# df_new_hh.to_csv(r'R:\\e2projects_two\\2018_base_year\\synthetic_population\\final_output\\adjusted_synthetic_households.csv',\n",
    "#                  index=False)"
   ]
  },
  {
   "cell_type": "code",
   "execution_count": 18,
   "metadata": {
    "collapsed": true
   },
   "outputs": [],
   "source": [
    "# df_new_pop.to_csv(r'R:\\e2projects_two\\2018_base_year\\synthetic_population\\final_output\\adjusted_synthetic_persons.csv',\n",
    "#                  index=False)"
   ]
  },
  {
   "cell_type": "code",
   "execution_count": 19,
   "metadata": {
    "collapsed": true
   },
   "outputs": [],
   "source": [
    "# Update block group ID"
   ]
  },
  {
   "cell_type": "code",
   "execution_count": 20,
   "metadata": {
    "collapsed": true
   },
   "outputs": [],
   "source": [
    "block_group_table = pd.read_csv(r'R:\\e2projects_two\\2018_base_year\\synthetic_population\\census_block_groups.csv')"
   ]
  },
  {
   "cell_type": "code",
   "execution_count": 21,
   "metadata": {
    "collapsed": true
   },
   "outputs": [],
   "source": [
    "# 2+3+6+1=12\n",
    "# state county tract block group"
   ]
  },
  {
   "cell_type": "code",
   "execution_count": 22,
   "metadata": {
    "collapsed": true
   },
   "outputs": [],
   "source": [
    "# Drop leading zeros to match format of synthetic population\n",
    "block_group_table['state'] = block_group_table['census_2010_block_group_id'].apply(lambda x: int(str(x)[0:2]))\n",
    "block_group_table['county'] = block_group_table['census_2010_block_group_id'].apply(lambda x: int(str(x)[3:5]))\n",
    "block_group_table['tract'] = block_group_table['census_2010_block_group_id'].apply(lambda x: int(str(x)[5:11]))\n",
    "block_group_table['block_group'] = block_group_table['census_2010_block_group_id'].apply(lambda x: int(str(x)[11:]))\n",
    "\n",
    "block_group_table['newid'] = block_group_table['state'].astype('str') + block_group_table['county'].astype('str') + block_group_table['tract'].astype('str') + block_group_table['block_group'].astype('str')\n",
    "# block_group_table['newid'] = block_group_table['newid'].astype('int')"
   ]
  },
  {
   "cell_type": "code",
   "execution_count": 23,
   "metadata": {
    "collapsed": true
   },
   "outputs": [],
   "source": [
    "df_new_hh['newid'] = df_new_hh['block_group_id'].astype('str')"
   ]
  },
  {
   "cell_type": "code",
   "execution_count": 24,
   "metadata": {
    "collapsed": true
   },
   "outputs": [],
   "source": [
    "df = block_group_table.merge(df_new_hh, on='newid')"
   ]
  },
  {
   "cell_type": "code",
   "execution_count": 25,
   "metadata": {
    "collapsed": false
   },
   "outputs": [
    {
     "data": {
      "text/html": [
       "<div>\n",
       "<style scoped>\n",
       "    .dataframe tbody tr th:only-of-type {\n",
       "        vertical-align: middle;\n",
       "    }\n",
       "\n",
       "    .dataframe tbody tr th {\n",
       "        vertical-align: top;\n",
       "    }\n",
       "\n",
       "    .dataframe thead th {\n",
       "        text-align: right;\n",
       "    }\n",
       "</style>\n",
       "<table border=\"1\" class=\"dataframe\">\n",
       "  <thead>\n",
       "    <tr style=\"text-align: right;\">\n",
       "      <th></th>\n",
       "      <th>census_2010_block_group_id</th>\n",
       "      <th>census_block_group_id</th>\n",
       "      <th>census_tract_id</th>\n",
       "      <th>state</th>\n",
       "      <th>county</th>\n",
       "      <th>tract</th>\n",
       "      <th>block_group</th>\n",
       "      <th>newid</th>\n",
       "      <th>household_id</th>\n",
       "      <th>PUMA</th>\n",
       "      <th>block_group_id</th>\n",
       "      <th>NP</th>\n",
       "      <th>VEH</th>\n",
       "      <th>worker_count</th>\n",
       "      <th>HHT</th>\n",
       "      <th>HINCP</th>\n",
       "      <th>WGTP</th>\n",
       "      <th>hhnum</th>\n",
       "      <th>TEN</th>\n",
       "    </tr>\n",
       "  </thead>\n",
       "  <tbody>\n",
       "    <tr>\n",
       "      <th>0</th>\n",
       "      <td>530330001001</td>\n",
       "      <td>1137</td>\n",
       "      <td>1</td>\n",
       "      <td>53</td>\n",
       "      <td>33</td>\n",
       "      <td>100</td>\n",
       "      <td>1</td>\n",
       "      <td>53331001</td>\n",
       "      <td>113026</td>\n",
       "      <td>11602</td>\n",
       "      <td>53331001</td>\n",
       "      <td>1</td>\n",
       "      <td>1.0</td>\n",
       "      <td>0</td>\n",
       "      <td>6.0</td>\n",
       "      <td>380700.0</td>\n",
       "      <td>14</td>\n",
       "      <td>51082</td>\n",
       "      <td>2.0</td>\n",
       "    </tr>\n",
       "    <tr>\n",
       "      <th>1</th>\n",
       "      <td>530330001001</td>\n",
       "      <td>1137</td>\n",
       "      <td>1</td>\n",
       "      <td>53</td>\n",
       "      <td>33</td>\n",
       "      <td>100</td>\n",
       "      <td>1</td>\n",
       "      <td>53331001</td>\n",
       "      <td>113027</td>\n",
       "      <td>11602</td>\n",
       "      <td>53331001</td>\n",
       "      <td>1</td>\n",
       "      <td>1.0</td>\n",
       "      <td>0</td>\n",
       "      <td>6.0</td>\n",
       "      <td>228800.0</td>\n",
       "      <td>21</td>\n",
       "      <td>1966</td>\n",
       "      <td>2.0</td>\n",
       "    </tr>\n",
       "    <tr>\n",
       "      <th>2</th>\n",
       "      <td>530330001001</td>\n",
       "      <td>1137</td>\n",
       "      <td>1</td>\n",
       "      <td>53</td>\n",
       "      <td>33</td>\n",
       "      <td>100</td>\n",
       "      <td>1</td>\n",
       "      <td>53331001</td>\n",
       "      <td>113028</td>\n",
       "      <td>11602</td>\n",
       "      <td>53331001</td>\n",
       "      <td>1</td>\n",
       "      <td>1.0</td>\n",
       "      <td>0</td>\n",
       "      <td>6.0</td>\n",
       "      <td>186000.0</td>\n",
       "      <td>14</td>\n",
       "      <td>73897</td>\n",
       "      <td>3.0</td>\n",
       "    </tr>\n",
       "    <tr>\n",
       "      <th>3</th>\n",
       "      <td>530330001001</td>\n",
       "      <td>1137</td>\n",
       "      <td>1</td>\n",
       "      <td>53</td>\n",
       "      <td>33</td>\n",
       "      <td>100</td>\n",
       "      <td>1</td>\n",
       "      <td>53331001</td>\n",
       "      <td>113029</td>\n",
       "      <td>11602</td>\n",
       "      <td>53331001</td>\n",
       "      <td>1</td>\n",
       "      <td>1.0</td>\n",
       "      <td>0</td>\n",
       "      <td>6.0</td>\n",
       "      <td>228800.0</td>\n",
       "      <td>21</td>\n",
       "      <td>1966</td>\n",
       "      <td>2.0</td>\n",
       "    </tr>\n",
       "    <tr>\n",
       "      <th>4</th>\n",
       "      <td>530330001001</td>\n",
       "      <td>1137</td>\n",
       "      <td>1</td>\n",
       "      <td>53</td>\n",
       "      <td>33</td>\n",
       "      <td>100</td>\n",
       "      <td>1</td>\n",
       "      <td>53331001</td>\n",
       "      <td>113030</td>\n",
       "      <td>11602</td>\n",
       "      <td>53331001</td>\n",
       "      <td>1</td>\n",
       "      <td>1.0</td>\n",
       "      <td>0</td>\n",
       "      <td>6.0</td>\n",
       "      <td>228800.0</td>\n",
       "      <td>21</td>\n",
       "      <td>1966</td>\n",
       "      <td>2.0</td>\n",
       "    </tr>\n",
       "  </tbody>\n",
       "</table>\n",
       "</div>"
      ],
      "text/plain": [
       "   census_2010_block_group_id  census_block_group_id  census_tract_id  state  \\\n",
       "0                530330001001                   1137                1     53   \n",
       "1                530330001001                   1137                1     53   \n",
       "2                530330001001                   1137                1     53   \n",
       "3                530330001001                   1137                1     53   \n",
       "4                530330001001                   1137                1     53   \n",
       "\n",
       "   county  tract  block_group     newid  household_id   PUMA  block_group_id  \\\n",
       "0      33    100            1  53331001        113026  11602        53331001   \n",
       "1      33    100            1  53331001        113027  11602        53331001   \n",
       "2      33    100            1  53331001        113028  11602        53331001   \n",
       "3      33    100            1  53331001        113029  11602        53331001   \n",
       "4      33    100            1  53331001        113030  11602        53331001   \n",
       "\n",
       "   NP  VEH  worker_count  HHT     HINCP  WGTP  hhnum  TEN  \n",
       "0   1  1.0             0  6.0  380700.0    14  51082  2.0  \n",
       "1   1  1.0             0  6.0  228800.0    21   1966  2.0  \n",
       "2   1  1.0             0  6.0  186000.0    14  73897  3.0  \n",
       "3   1  1.0             0  6.0  228800.0    21   1966  2.0  \n",
       "4   1  1.0             0  6.0  228800.0    21   1966  2.0  "
      ]
     },
     "execution_count": 25,
     "metadata": {},
     "output_type": "execute_result"
    }
   ],
   "source": [
    "df.head()"
   ]
  },
  {
   "cell_type": "code",
   "execution_count": 26,
   "metadata": {
    "collapsed": false
   },
   "outputs": [
    {
     "data": {
      "text/plain": [
       "1605264"
      ]
     },
     "execution_count": 26,
     "metadata": {},
     "output_type": "execute_result"
    }
   ],
   "source": [
    "len(df_new_hh)"
   ]
  },
  {
   "cell_type": "code",
   "execution_count": 27,
   "metadata": {
    "collapsed": true
   },
   "outputs": [],
   "source": [
    "df.to_csv(r'R:\\e2projects_two\\2018_base_year\\synthetic_population\\final_output\\adjusted_synthetic_households.csv')"
   ]
  },
  {
   "cell_type": "code",
   "execution_count": 28,
   "metadata": {
    "collapsed": true
   },
   "outputs": [],
   "source": [
    "df_new_pop['newid'] = df_new_pop['block_group_id'].astype('str')\n",
    "df_person = block_group_table.merge(df_new_pop, on='newid')"
   ]
  },
  {
   "cell_type": "code",
   "execution_count": 29,
   "metadata": {
    "collapsed": true
   },
   "outputs": [],
   "source": [
    "df_person.to_csv(r'R:\\e2projects_two\\2018_base_year\\synthetic_population\\final_output\\adjusted_synthetic_persons.csv',\n",
    "                index=False)"
   ]
  },
  {
   "cell_type": "code",
   "execution_count": 30,
   "metadata": {
    "collapsed": true
   },
   "outputs": [],
   "source": [
    "test = pd.read_csv(r'R:\\e2projects_two\\2018_base_year\\synthetic_population\\final_output\\adjusted_synthetic_persons.csv')"
   ]
  },
  {
   "cell_type": "code",
   "execution_count": 33,
   "metadata": {
    "collapsed": false
   },
   "outputs": [
    {
     "data": {
      "text/plain": [
       "4048896"
      ]
     },
     "execution_count": 33,
     "metadata": {},
     "output_type": "execute_result"
    }
   ],
   "source": [
    "len(df_person)"
   ]
  },
  {
   "cell_type": "code",
   "execution_count": 34,
   "metadata": {
    "collapsed": false
   },
   "outputs": [
    {
     "data": {
      "text/plain": [
       "4048896"
      ]
     },
     "execution_count": 34,
     "metadata": {},
     "output_type": "execute_result"
    }
   ],
   "source": [
    "len(df_new_pop)"
   ]
  },
  {
   "cell_type": "code",
   "execution_count": null,
   "metadata": {
    "collapsed": true
   },
   "outputs": [],
   "source": []
  }
 ],
 "metadata": {
  "kernelspec": {
   "display_name": "Python 2",
   "language": "python",
   "name": "python2"
  },
  "language_info": {
   "codemirror_mode": {
    "name": "ipython",
    "version": 2
   },
   "file_extension": ".py",
   "mimetype": "text/x-python",
   "name": "python",
   "nbconvert_exporter": "python",
   "pygments_lexer": "ipython2",
   "version": "2.7.13"
  }
 },
 "nbformat": 4,
 "nbformat_minor": 2
}
