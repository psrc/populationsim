{
 "cells": [
  {
   "cell_type": "code",
   "execution_count": 1,
   "metadata": {
    "collapsed": true
   },
   "outputs": [],
   "source": [
    "import pandas as pd"
   ]
  },
  {
   "cell_type": "code",
   "execution_count": 2,
   "metadata": {
    "collapsed": true
   },
   "outputs": [],
   "source": [
    "# Add columns from seed person and houeshold data to final output"
   ]
  },
  {
   "cell_type": "code",
   "execution_count": 49,
   "metadata": {
    "collapsed": false
   },
   "outputs": [],
   "source": [
    "df_syn_pop = pd.read_csv(r'C:\\Users\\bnichols\\POPULATIONSIM_2020\\populationsim\\psrc\\output\\synthetic_persons.csv')"
   ]
  },
  {
   "cell_type": "code",
   "execution_count": 50,
   "metadata": {
    "collapsed": true
   },
   "outputs": [],
   "source": [
    "df_syn_hh = pd.read_csv(r'C:\\Users\\bnichols\\POPULATIONSIM_2020\\populationsim\\psrc\\output\\synthetic_households.csv')"
   ]
  },
  {
   "cell_type": "code",
   "execution_count": 5,
   "metadata": {
    "collapsed": true
   },
   "outputs": [],
   "source": [
    "df_seed_pop = pd.read_csv(r'R:\\e2projects_two\\SyntheticPopulation_2018\\populationsim_inputs\\data\\seed_persons.csv')"
   ]
  },
  {
   "cell_type": "code",
   "execution_count": 6,
   "metadata": {
    "collapsed": true
   },
   "outputs": [],
   "source": [
    "df_seed_hh = pd.read_csv(r'R:\\e2projects_two\\SyntheticPopulation_2018\\populationsim_inputs\\data\\seed_households.csv')"
   ]
  },
  {
   "cell_type": "code",
   "execution_count": 51,
   "metadata": {
    "collapsed": false
   },
   "outputs": [
    {
     "data": {
      "text/plain": [
       "3995623"
      ]
     },
     "execution_count": 51,
     "metadata": {},
     "output_type": "execute_result"
    }
   ],
   "source": [
    "len(df_syn_pop)"
   ]
  },
  {
   "cell_type": "code",
   "execution_count": 53,
   "metadata": {
    "collapsed": false
   },
   "outputs": [],
   "source": [
    "# Household Records\n",
    "df_new_pop = df_syn_pop.merge(df_seed_pop[['ESR','PINCP','SCHL','SCHG','WKHP','RELP','hhnum','SPORDER']],\n",
    "                left_on=['hh_id','per_num'], right_on=['hhnum','SPORDER'])\n",
    "df_new_pop.columns = [i.lower() for i in df_new_pop.columns]\n",
    "# df_new_pop.drop(['new_per_num'], axis=1, inplace=True)"
   ]
  },
  {
   "cell_type": "code",
   "execution_count": 54,
   "metadata": {
    "collapsed": false
   },
   "outputs": [
    {
     "data": {
      "text/plain": [
       "3995623"
      ]
     },
     "execution_count": 54,
     "metadata": {},
     "output_type": "execute_result"
    }
   ],
   "source": [
    "len(df_new_pop)"
   ]
  },
  {
   "cell_type": "code",
   "execution_count": 11,
   "metadata": {
    "collapsed": true
   },
   "outputs": [],
   "source": [
    "# Load adjusted household seeds\n",
    "# df_seed_hh_adj = pd.read_csv(r'R:\\e2projects_two\\SyntheticPopulation_2018\\results_with_race\\adjusted_seed_households.csv')"
   ]
  },
  {
   "cell_type": "code",
   "execution_count": 55,
   "metadata": {
    "collapsed": true
   },
   "outputs": [],
   "source": [
    "# Household Records\n",
    "# df_new_hh = df_syn_hh.merge(df_seed_hh[['hhnum','TEN','PUMA','NP']], left_on=['hh_id','PUMA','NP'], \n",
    "#                             right_on=['hhnum','PUMA','NP'], how='left')\n",
    "\n",
    "# # Drop the NP column and replace with NP_adjusted - this represents the persons added to this household\n",
    "# df_new_hh['NP'] = df_new_hh['NP_adjusted'].copy()\n",
    "# df_new_hh.drop(['NP_adjusted','NP_adjusted','hh_id','new_pums_hh_id'], axis=1, inplace=True)\n",
    "df_new_hh = df_syn_hh.copy()"
   ]
  },
  {
   "cell_type": "code",
   "execution_count": 56,
   "metadata": {
    "collapsed": false
   },
   "outputs": [
    {
     "data": {
      "text/html": [
       "<div>\n",
       "<table border=\"1\" class=\"dataframe\">\n",
       "  <thead>\n",
       "    <tr style=\"text-align: right;\">\n",
       "      <th></th>\n",
       "      <th>household_id</th>\n",
       "      <th>PUMA</th>\n",
       "      <th>block_group_id</th>\n",
       "      <th>hh_id</th>\n",
       "      <th>NP</th>\n",
       "      <th>VEH</th>\n",
       "      <th>worker_count</th>\n",
       "      <th>HHT</th>\n",
       "      <th>HINCP</th>\n",
       "      <th>WGTP</th>\n",
       "    </tr>\n",
       "  </thead>\n",
       "  <tbody>\n",
       "    <tr>\n",
       "      <th>0</th>\n",
       "      <td>1</td>\n",
       "      <td>11802</td>\n",
       "      <td>5335814001</td>\n",
       "      <td>68606</td>\n",
       "      <td>1</td>\n",
       "      <td>3.0</td>\n",
       "      <td>1</td>\n",
       "      <td>4.0</td>\n",
       "      <td>45000.0</td>\n",
       "      <td>31</td>\n",
       "    </tr>\n",
       "    <tr>\n",
       "      <th>1</th>\n",
       "      <td>2</td>\n",
       "      <td>11802</td>\n",
       "      <td>5335814001</td>\n",
       "      <td>68606</td>\n",
       "      <td>1</td>\n",
       "      <td>3.0</td>\n",
       "      <td>1</td>\n",
       "      <td>4.0</td>\n",
       "      <td>45000.0</td>\n",
       "      <td>31</td>\n",
       "    </tr>\n",
       "    <tr>\n",
       "      <th>2</th>\n",
       "      <td>3</td>\n",
       "      <td>11802</td>\n",
       "      <td>5335814001</td>\n",
       "      <td>68606</td>\n",
       "      <td>1</td>\n",
       "      <td>3.0</td>\n",
       "      <td>1</td>\n",
       "      <td>4.0</td>\n",
       "      <td>45000.0</td>\n",
       "      <td>31</td>\n",
       "    </tr>\n",
       "    <tr>\n",
       "      <th>3</th>\n",
       "      <td>4</td>\n",
       "      <td>11802</td>\n",
       "      <td>5335814001</td>\n",
       "      <td>68606</td>\n",
       "      <td>1</td>\n",
       "      <td>3.0</td>\n",
       "      <td>1</td>\n",
       "      <td>4.0</td>\n",
       "      <td>45000.0</td>\n",
       "      <td>31</td>\n",
       "    </tr>\n",
       "    <tr>\n",
       "      <th>4</th>\n",
       "      <td>5</td>\n",
       "      <td>11802</td>\n",
       "      <td>5335814001</td>\n",
       "      <td>68606</td>\n",
       "      <td>1</td>\n",
       "      <td>3.0</td>\n",
       "      <td>1</td>\n",
       "      <td>4.0</td>\n",
       "      <td>45000.0</td>\n",
       "      <td>31</td>\n",
       "    </tr>\n",
       "  </tbody>\n",
       "</table>\n",
       "</div>"
      ],
      "text/plain": [
       "   household_id   PUMA  block_group_id  hh_id  NP  VEH  worker_count  HHT  \\\n",
       "0             1  11802      5335814001  68606   1  3.0             1  4.0   \n",
       "1             2  11802      5335814001  68606   1  3.0             1  4.0   \n",
       "2             3  11802      5335814001  68606   1  3.0             1  4.0   \n",
       "3             4  11802      5335814001  68606   1  3.0             1  4.0   \n",
       "4             5  11802      5335814001  68606   1  3.0             1  4.0   \n",
       "\n",
       "     HINCP  WGTP  \n",
       "0  45000.0    31  \n",
       "1  45000.0    31  \n",
       "2  45000.0    31  \n",
       "3  45000.0    31  \n",
       "4  45000.0    31  "
      ]
     },
     "execution_count": 56,
     "metadata": {},
     "output_type": "execute_result"
    }
   ],
   "source": [
    "df_syn_hh.head()"
   ]
  },
  {
   "cell_type": "code",
   "execution_count": 13,
   "metadata": {
    "collapsed": false
   },
   "outputs": [
    {
     "name": "stdout",
     "output_type": "stream",
     "text": [
      "4047846\n",
      "4047846\n"
     ]
    }
   ],
   "source": [
    "print(len(df_new_hh))\n",
    "print(len(df_syn_hh))"
   ]
  },
  {
   "cell_type": "code",
   "execution_count": 14,
   "metadata": {
    "collapsed": false
   },
   "outputs": [
    {
     "data": {
      "text/html": [
       "<div>\n",
       "<table border=\"1\" class=\"dataframe\">\n",
       "  <thead>\n",
       "    <tr style=\"text-align: right;\">\n",
       "      <th></th>\n",
       "      <th>PUMA</th>\n",
       "      <th>block_group_id</th>\n",
       "      <th>household_id</th>\n",
       "      <th>per_num</th>\n",
       "      <th>AGEP</th>\n",
       "      <th>RAC1P</th>\n",
       "      <th>SEX</th>\n",
       "      <th>SCH</th>\n",
       "      <th>is_worker</th>\n",
       "      <th>NP</th>\n",
       "      <th>person_id</th>\n",
       "      <th>clone</th>\n",
       "      <th>hhnum</th>\n",
       "      <th>TEN</th>\n",
       "    </tr>\n",
       "  </thead>\n",
       "  <tbody>\n",
       "    <tr>\n",
       "      <th>0</th>\n",
       "      <td>11802</td>\n",
       "      <td>5335814001</td>\n",
       "      <td>1</td>\n",
       "      <td>1</td>\n",
       "      <td>25</td>\n",
       "      <td>1</td>\n",
       "      <td>1</td>\n",
       "      <td>1.0</td>\n",
       "      <td>1</td>\n",
       "      <td>1</td>\n",
       "      <td>1</td>\n",
       "      <td>0</td>\n",
       "      <td>68606.0</td>\n",
       "      <td>1.0</td>\n",
       "    </tr>\n",
       "    <tr>\n",
       "      <th>1</th>\n",
       "      <td>11802</td>\n",
       "      <td>5335814001</td>\n",
       "      <td>2</td>\n",
       "      <td>1</td>\n",
       "      <td>25</td>\n",
       "      <td>1</td>\n",
       "      <td>1</td>\n",
       "      <td>1.0</td>\n",
       "      <td>1</td>\n",
       "      <td>1</td>\n",
       "      <td>2</td>\n",
       "      <td>0</td>\n",
       "      <td>68606.0</td>\n",
       "      <td>1.0</td>\n",
       "    </tr>\n",
       "    <tr>\n",
       "      <th>2</th>\n",
       "      <td>11802</td>\n",
       "      <td>5335814001</td>\n",
       "      <td>3</td>\n",
       "      <td>1</td>\n",
       "      <td>25</td>\n",
       "      <td>1</td>\n",
       "      <td>1</td>\n",
       "      <td>1.0</td>\n",
       "      <td>1</td>\n",
       "      <td>1</td>\n",
       "      <td>3</td>\n",
       "      <td>0</td>\n",
       "      <td>68606.0</td>\n",
       "      <td>1.0</td>\n",
       "    </tr>\n",
       "    <tr>\n",
       "      <th>3</th>\n",
       "      <td>11802</td>\n",
       "      <td>5335814001</td>\n",
       "      <td>4</td>\n",
       "      <td>1</td>\n",
       "      <td>25</td>\n",
       "      <td>1</td>\n",
       "      <td>1</td>\n",
       "      <td>1.0</td>\n",
       "      <td>1</td>\n",
       "      <td>1</td>\n",
       "      <td>4</td>\n",
       "      <td>0</td>\n",
       "      <td>68606.0</td>\n",
       "      <td>1.0</td>\n",
       "    </tr>\n",
       "    <tr>\n",
       "      <th>4</th>\n",
       "      <td>11802</td>\n",
       "      <td>5335814001</td>\n",
       "      <td>5</td>\n",
       "      <td>1</td>\n",
       "      <td>25</td>\n",
       "      <td>1</td>\n",
       "      <td>1</td>\n",
       "      <td>1.0</td>\n",
       "      <td>1</td>\n",
       "      <td>1</td>\n",
       "      <td>5</td>\n",
       "      <td>0</td>\n",
       "      <td>68606.0</td>\n",
       "      <td>1.0</td>\n",
       "    </tr>\n",
       "  </tbody>\n",
       "</table>\n",
       "</div>"
      ],
      "text/plain": [
       "    PUMA  block_group_id  household_id  per_num  AGEP  RAC1P  SEX  SCH  \\\n",
       "0  11802      5335814001             1        1    25      1    1  1.0   \n",
       "1  11802      5335814001             2        1    25      1    1  1.0   \n",
       "2  11802      5335814001             3        1    25      1    1  1.0   \n",
       "3  11802      5335814001             4        1    25      1    1  1.0   \n",
       "4  11802      5335814001             5        1    25      1    1  1.0   \n",
       "\n",
       "   is_worker  NP  person_id  clone    hhnum  TEN  \n",
       "0          1   1          1      0  68606.0  1.0  \n",
       "1          1   1          2      0  68606.0  1.0  \n",
       "2          1   1          3      0  68606.0  1.0  \n",
       "3          1   1          4      0  68606.0  1.0  \n",
       "4          1   1          5      0  68606.0  1.0  "
      ]
     },
     "execution_count": 14,
     "metadata": {},
     "output_type": "execute_result"
    }
   ],
   "source": [
    "df_new_hh.head()"
   ]
  },
  {
   "cell_type": "code",
   "execution_count": 15,
   "metadata": {
    "collapsed": true
   },
   "outputs": [],
   "source": [
    "# df_new_hh.to_csv(r'R:\\e2projects_two\\2018_base_year\\synthetic_population\\final_output\\adjusted_synthetic_households.csv',\n",
    "#                  index=False)"
   ]
  },
  {
   "cell_type": "code",
   "execution_count": 16,
   "metadata": {
    "collapsed": true
   },
   "outputs": [],
   "source": [
    "# df_new_pop.to_csv(r'R:\\e2projects_two\\2018_base_year\\synthetic_population\\final_output\\adjusted_synthetic_persons.csv',\n",
    "#                  index=False)"
   ]
  },
  {
   "cell_type": "code",
   "execution_count": 17,
   "metadata": {
    "collapsed": true
   },
   "outputs": [],
   "source": [
    "# Update block group ID"
   ]
  },
  {
   "cell_type": "code",
   "execution_count": 57,
   "metadata": {
    "collapsed": true
   },
   "outputs": [],
   "source": [
    "block_group_table = pd.read_csv(r'R:\\e2projects_two\\2018_base_year\\synthetic_population\\census_block_groups.csv')"
   ]
  },
  {
   "cell_type": "code",
   "execution_count": 58,
   "metadata": {
    "collapsed": true
   },
   "outputs": [],
   "source": [
    "# 2+3+6+1=12\n",
    "# state county tract block group"
   ]
  },
  {
   "cell_type": "code",
   "execution_count": 59,
   "metadata": {
    "collapsed": true
   },
   "outputs": [],
   "source": [
    "# Drop leading zeros to match format of synthetic population\n",
    "block_group_table['state'] = block_group_table['census_2010_block_group_id'].apply(lambda x: int(str(x)[0:2]))\n",
    "block_group_table['county'] = block_group_table['census_2010_block_group_id'].apply(lambda x: int(str(x)[3:5]))\n",
    "block_group_table['tract'] = block_group_table['census_2010_block_group_id'].apply(lambda x: int(str(x)[5:11]))\n",
    "block_group_table['block_group'] = block_group_table['census_2010_block_group_id'].apply(lambda x: int(str(x)[11:]))\n",
    "\n",
    "block_group_table['newid'] = block_group_table['state'].astype('str') + block_group_table['county'].astype('str') + block_group_table['tract'].astype('str') + block_group_table['block_group'].astype('str')\n",
    "# block_group_table['newid'] = block_group_table['newid'].astype('int')"
   ]
  },
  {
   "cell_type": "code",
   "execution_count": 60,
   "metadata": {
    "collapsed": true
   },
   "outputs": [],
   "source": [
    "df_new_hh['newid'] = df_new_hh['block_group_id'].astype('str')"
   ]
  },
  {
   "cell_type": "code",
   "execution_count": 61,
   "metadata": {
    "collapsed": true
   },
   "outputs": [],
   "source": [
    "df = block_group_table.merge(df_new_hh, on='newid')"
   ]
  },
  {
   "cell_type": "code",
   "execution_count": 62,
   "metadata": {
    "collapsed": false
   },
   "outputs": [
    {
     "data": {
      "text/html": [
       "<div>\n",
       "<table border=\"1\" class=\"dataframe\">\n",
       "  <thead>\n",
       "    <tr style=\"text-align: right;\">\n",
       "      <th></th>\n",
       "      <th>census_2010_block_group_id</th>\n",
       "      <th>census_block_group_id</th>\n",
       "      <th>census_tract_id</th>\n",
       "      <th>state</th>\n",
       "      <th>county</th>\n",
       "      <th>tract</th>\n",
       "      <th>block_group</th>\n",
       "      <th>newid</th>\n",
       "      <th>household_id</th>\n",
       "      <th>PUMA</th>\n",
       "      <th>block_group_id</th>\n",
       "      <th>hh_id</th>\n",
       "      <th>NP</th>\n",
       "      <th>VEH</th>\n",
       "      <th>worker_count</th>\n",
       "      <th>HHT</th>\n",
       "      <th>HINCP</th>\n",
       "      <th>WGTP</th>\n",
       "    </tr>\n",
       "  </thead>\n",
       "  <tbody>\n",
       "    <tr>\n",
       "      <th>0</th>\n",
       "      <td>530330001001</td>\n",
       "      <td>1137</td>\n",
       "      <td>1</td>\n",
       "      <td>53</td>\n",
       "      <td>33</td>\n",
       "      <td>100</td>\n",
       "      <td>1</td>\n",
       "      <td>53331001</td>\n",
       "      <td>112161</td>\n",
       "      <td>11602</td>\n",
       "      <td>53331001</td>\n",
       "      <td>47010</td>\n",
       "      <td>1</td>\n",
       "      <td>1.0</td>\n",
       "      <td>0</td>\n",
       "      <td>4.0</td>\n",
       "      <td>144000.0</td>\n",
       "      <td>8</td>\n",
       "    </tr>\n",
       "    <tr>\n",
       "      <th>1</th>\n",
       "      <td>530330001001</td>\n",
       "      <td>1137</td>\n",
       "      <td>1</td>\n",
       "      <td>53</td>\n",
       "      <td>33</td>\n",
       "      <td>100</td>\n",
       "      <td>1</td>\n",
       "      <td>53331001</td>\n",
       "      <td>112162</td>\n",
       "      <td>11602</td>\n",
       "      <td>53331001</td>\n",
       "      <td>13112</td>\n",
       "      <td>1</td>\n",
       "      <td>1.0</td>\n",
       "      <td>0</td>\n",
       "      <td>4.0</td>\n",
       "      <td>134100.0</td>\n",
       "      <td>7</td>\n",
       "    </tr>\n",
       "    <tr>\n",
       "      <th>2</th>\n",
       "      <td>530330001001</td>\n",
       "      <td>1137</td>\n",
       "      <td>1</td>\n",
       "      <td>53</td>\n",
       "      <td>33</td>\n",
       "      <td>100</td>\n",
       "      <td>1</td>\n",
       "      <td>53331001</td>\n",
       "      <td>112163</td>\n",
       "      <td>11602</td>\n",
       "      <td>53331001</td>\n",
       "      <td>70579</td>\n",
       "      <td>1</td>\n",
       "      <td>1.0</td>\n",
       "      <td>0</td>\n",
       "      <td>4.0</td>\n",
       "      <td>126370.0</td>\n",
       "      <td>23</td>\n",
       "    </tr>\n",
       "    <tr>\n",
       "      <th>3</th>\n",
       "      <td>530330001001</td>\n",
       "      <td>1137</td>\n",
       "      <td>1</td>\n",
       "      <td>53</td>\n",
       "      <td>33</td>\n",
       "      <td>100</td>\n",
       "      <td>1</td>\n",
       "      <td>53331001</td>\n",
       "      <td>112164</td>\n",
       "      <td>11602</td>\n",
       "      <td>53331001</td>\n",
       "      <td>70579</td>\n",
       "      <td>1</td>\n",
       "      <td>1.0</td>\n",
       "      <td>0</td>\n",
       "      <td>4.0</td>\n",
       "      <td>126370.0</td>\n",
       "      <td>23</td>\n",
       "    </tr>\n",
       "    <tr>\n",
       "      <th>4</th>\n",
       "      <td>530330001001</td>\n",
       "      <td>1137</td>\n",
       "      <td>1</td>\n",
       "      <td>53</td>\n",
       "      <td>33</td>\n",
       "      <td>100</td>\n",
       "      <td>1</td>\n",
       "      <td>53331001</td>\n",
       "      <td>112165</td>\n",
       "      <td>11602</td>\n",
       "      <td>53331001</td>\n",
       "      <td>47010</td>\n",
       "      <td>1</td>\n",
       "      <td>1.0</td>\n",
       "      <td>0</td>\n",
       "      <td>4.0</td>\n",
       "      <td>144000.0</td>\n",
       "      <td>8</td>\n",
       "    </tr>\n",
       "  </tbody>\n",
       "</table>\n",
       "</div>"
      ],
      "text/plain": [
       "   census_2010_block_group_id  census_block_group_id  census_tract_id  state  \\\n",
       "0                530330001001                   1137                1     53   \n",
       "1                530330001001                   1137                1     53   \n",
       "2                530330001001                   1137                1     53   \n",
       "3                530330001001                   1137                1     53   \n",
       "4                530330001001                   1137                1     53   \n",
       "\n",
       "   county  tract  block_group     newid  household_id   PUMA  block_group_id  \\\n",
       "0      33    100            1  53331001        112161  11602        53331001   \n",
       "1      33    100            1  53331001        112162  11602        53331001   \n",
       "2      33    100            1  53331001        112163  11602        53331001   \n",
       "3      33    100            1  53331001        112164  11602        53331001   \n",
       "4      33    100            1  53331001        112165  11602        53331001   \n",
       "\n",
       "   hh_id  NP  VEH  worker_count  HHT     HINCP  WGTP  \n",
       "0  47010   1  1.0             0  4.0  144000.0     8  \n",
       "1  13112   1  1.0             0  4.0  134100.0     7  \n",
       "2  70579   1  1.0             0  4.0  126370.0    23  \n",
       "3  70579   1  1.0             0  4.0  126370.0    23  \n",
       "4  47010   1  1.0             0  4.0  144000.0     8  "
      ]
     },
     "execution_count": 62,
     "metadata": {},
     "output_type": "execute_result"
    }
   ],
   "source": [
    "df.head()"
   ]
  },
  {
   "cell_type": "code",
   "execution_count": 63,
   "metadata": {
    "collapsed": false
   },
   "outputs": [
    {
     "data": {
      "text/plain": [
       "1605216"
      ]
     },
     "execution_count": 63,
     "metadata": {},
     "output_type": "execute_result"
    }
   ],
   "source": [
    "len(df_new_hh)"
   ]
  },
  {
   "cell_type": "code",
   "execution_count": 64,
   "metadata": {
    "collapsed": true
   },
   "outputs": [],
   "source": [
    "df.to_csv(r'C:\\Users\\bnichols\\POPULATIONSIM_2020\\populationsim\\psrc\\output\\final_adjusted_synthetic_households.csv')"
   ]
  },
  {
   "cell_type": "code",
   "execution_count": 65,
   "metadata": {
    "collapsed": true
   },
   "outputs": [],
   "source": [
    "df_new_pop['newid'] = df_new_pop['block_group_id'].astype('str')\n",
    "df_person = block_group_table.merge(df_new_pop, on='newid')"
   ]
  },
  {
   "cell_type": "code",
   "execution_count": 66,
   "metadata": {
    "collapsed": true
   },
   "outputs": [],
   "source": [
    "df_person.to_csv(r'C:\\Users\\bnichols\\POPULATIONSIM_2020\\populationsim\\psrc\\output\\final_adjusted_synthetic_persons.csv',\n",
    "                index=False)"
   ]
  },
  {
   "cell_type": "code",
   "execution_count": null,
   "metadata": {
    "collapsed": true
   },
   "outputs": [],
   "source": [
    "# test = pd.read_csv(r'R:\\e2projects_two\\2018_base_year\\synthetic_population\\final_output\\adjusted_synthetic_persons.csv')"
   ]
  },
  {
   "cell_type": "code",
   "execution_count": 67,
   "metadata": {
    "collapsed": false
   },
   "outputs": [
    {
     "data": {
      "text/plain": [
       "3995623"
      ]
     },
     "execution_count": 67,
     "metadata": {},
     "output_type": "execute_result"
    }
   ],
   "source": [
    "len(df_person)"
   ]
  },
  {
   "cell_type": "code",
   "execution_count": 68,
   "metadata": {
    "collapsed": false
   },
   "outputs": [
    {
     "data": {
      "text/plain": [
       "1605216"
      ]
     },
     "execution_count": 68,
     "metadata": {},
     "output_type": "execute_result"
    }
   ],
   "source": [
    "len(df)"
   ]
  },
  {
   "cell_type": "code",
   "execution_count": 69,
   "metadata": {
    "collapsed": false
   },
   "outputs": [
    {
     "data": {
      "text/html": [
       "<div>\n",
       "<table border=\"1\" class=\"dataframe\">\n",
       "  <thead>\n",
       "    <tr style=\"text-align: right;\">\n",
       "      <th></th>\n",
       "      <th>census_2010_block_group_id</th>\n",
       "      <th>census_block_group_id</th>\n",
       "      <th>census_tract_id</th>\n",
       "      <th>state</th>\n",
       "      <th>county</th>\n",
       "      <th>tract</th>\n",
       "      <th>block_group</th>\n",
       "      <th>newid</th>\n",
       "      <th>household_id</th>\n",
       "      <th>PUMA</th>\n",
       "      <th>block_group_id</th>\n",
       "      <th>hh_id</th>\n",
       "      <th>NP</th>\n",
       "      <th>VEH</th>\n",
       "      <th>worker_count</th>\n",
       "      <th>HHT</th>\n",
       "      <th>HINCP</th>\n",
       "      <th>WGTP</th>\n",
       "    </tr>\n",
       "  </thead>\n",
       "  <tbody>\n",
       "    <tr>\n",
       "      <th>0</th>\n",
       "      <td>530330001001</td>\n",
       "      <td>1137</td>\n",
       "      <td>1</td>\n",
       "      <td>53</td>\n",
       "      <td>33</td>\n",
       "      <td>100</td>\n",
       "      <td>1</td>\n",
       "      <td>53331001</td>\n",
       "      <td>112161</td>\n",
       "      <td>11602</td>\n",
       "      <td>53331001</td>\n",
       "      <td>47010</td>\n",
       "      <td>1</td>\n",
       "      <td>1.0</td>\n",
       "      <td>0</td>\n",
       "      <td>4.0</td>\n",
       "      <td>144000.0</td>\n",
       "      <td>8</td>\n",
       "    </tr>\n",
       "    <tr>\n",
       "      <th>1</th>\n",
       "      <td>530330001001</td>\n",
       "      <td>1137</td>\n",
       "      <td>1</td>\n",
       "      <td>53</td>\n",
       "      <td>33</td>\n",
       "      <td>100</td>\n",
       "      <td>1</td>\n",
       "      <td>53331001</td>\n",
       "      <td>112162</td>\n",
       "      <td>11602</td>\n",
       "      <td>53331001</td>\n",
       "      <td>13112</td>\n",
       "      <td>1</td>\n",
       "      <td>1.0</td>\n",
       "      <td>0</td>\n",
       "      <td>4.0</td>\n",
       "      <td>134100.0</td>\n",
       "      <td>7</td>\n",
       "    </tr>\n",
       "    <tr>\n",
       "      <th>2</th>\n",
       "      <td>530330001001</td>\n",
       "      <td>1137</td>\n",
       "      <td>1</td>\n",
       "      <td>53</td>\n",
       "      <td>33</td>\n",
       "      <td>100</td>\n",
       "      <td>1</td>\n",
       "      <td>53331001</td>\n",
       "      <td>112163</td>\n",
       "      <td>11602</td>\n",
       "      <td>53331001</td>\n",
       "      <td>70579</td>\n",
       "      <td>1</td>\n",
       "      <td>1.0</td>\n",
       "      <td>0</td>\n",
       "      <td>4.0</td>\n",
       "      <td>126370.0</td>\n",
       "      <td>23</td>\n",
       "    </tr>\n",
       "    <tr>\n",
       "      <th>3</th>\n",
       "      <td>530330001001</td>\n",
       "      <td>1137</td>\n",
       "      <td>1</td>\n",
       "      <td>53</td>\n",
       "      <td>33</td>\n",
       "      <td>100</td>\n",
       "      <td>1</td>\n",
       "      <td>53331001</td>\n",
       "      <td>112164</td>\n",
       "      <td>11602</td>\n",
       "      <td>53331001</td>\n",
       "      <td>70579</td>\n",
       "      <td>1</td>\n",
       "      <td>1.0</td>\n",
       "      <td>0</td>\n",
       "      <td>4.0</td>\n",
       "      <td>126370.0</td>\n",
       "      <td>23</td>\n",
       "    </tr>\n",
       "    <tr>\n",
       "      <th>4</th>\n",
       "      <td>530330001001</td>\n",
       "      <td>1137</td>\n",
       "      <td>1</td>\n",
       "      <td>53</td>\n",
       "      <td>33</td>\n",
       "      <td>100</td>\n",
       "      <td>1</td>\n",
       "      <td>53331001</td>\n",
       "      <td>112165</td>\n",
       "      <td>11602</td>\n",
       "      <td>53331001</td>\n",
       "      <td>47010</td>\n",
       "      <td>1</td>\n",
       "      <td>1.0</td>\n",
       "      <td>0</td>\n",
       "      <td>4.0</td>\n",
       "      <td>144000.0</td>\n",
       "      <td>8</td>\n",
       "    </tr>\n",
       "  </tbody>\n",
       "</table>\n",
       "</div>"
      ],
      "text/plain": [
       "   census_2010_block_group_id  census_block_group_id  census_tract_id  state  \\\n",
       "0                530330001001                   1137                1     53   \n",
       "1                530330001001                   1137                1     53   \n",
       "2                530330001001                   1137                1     53   \n",
       "3                530330001001                   1137                1     53   \n",
       "4                530330001001                   1137                1     53   \n",
       "\n",
       "   county  tract  block_group     newid  household_id   PUMA  block_group_id  \\\n",
       "0      33    100            1  53331001        112161  11602        53331001   \n",
       "1      33    100            1  53331001        112162  11602        53331001   \n",
       "2      33    100            1  53331001        112163  11602        53331001   \n",
       "3      33    100            1  53331001        112164  11602        53331001   \n",
       "4      33    100            1  53331001        112165  11602        53331001   \n",
       "\n",
       "   hh_id  NP  VEH  worker_count  HHT     HINCP  WGTP  \n",
       "0  47010   1  1.0             0  4.0  144000.0     8  \n",
       "1  13112   1  1.0             0  4.0  134100.0     7  \n",
       "2  70579   1  1.0             0  4.0  126370.0    23  \n",
       "3  70579   1  1.0             0  4.0  126370.0    23  \n",
       "4  47010   1  1.0             0  4.0  144000.0     8  "
      ]
     },
     "execution_count": 69,
     "metadata": {},
     "output_type": "execute_result"
    }
   ],
   "source": [
    "df.head()"
   ]
  },
  {
   "cell_type": "code",
   "execution_count": 71,
   "metadata": {
    "collapsed": false
   },
   "outputs": [
    {
     "data": {
      "text/plain": [
       "Index([u'census_2010_block_group_id', u'census_block_group_id',\n",
       "       u'census_tract_id', u'state', u'county', u'tract', u'block_group',\n",
       "       u'newid', u'puma', u'block_group_id', u'hh_id', u'household_id',\n",
       "       u'per_num', u'agep', u'rac1p', u'sex', u'sch', u'is_worker', u'esr',\n",
       "       u'pincp', u'schl', u'schg', u'wkhp', u'relp', u'hhnum', u'sporder'],\n",
       "      dtype='object')"
      ]
     },
     "execution_count": 71,
     "metadata": {},
     "output_type": "execute_result"
    }
   ],
   "source": [
    "df_person.columns"
   ]
  },
  {
   "cell_type": "code",
   "execution_count": 43,
   "metadata": {
    "collapsed": false
   },
   "outputs": [
    {
     "data": {
      "text/plain": [
       "array([1, 2, 3, 1, 2, 3, 3, 3, 4])"
      ]
     },
     "execution_count": 43,
     "metadata": {},
     "output_type": "execute_result"
    }
   ],
   "source": [
    "np.hstack(mylist + [[3,3,4]])"
   ]
  },
  {
   "cell_type": "code",
   "execution_count": 40,
   "metadata": {
    "collapsed": false
   },
   "outputs": [
    {
     "ename": "SyntaxError",
     "evalue": "invalid syntax (<ipython-input-40-e730c4aaa240>, line 1)",
     "output_type": "error",
     "traceback": [
      "\u001b[0;36m  File \u001b[0;32m\"<ipython-input-40-e730c4aaa240>\"\u001b[0;36m, line \u001b[0;32m1\u001b[0m\n\u001b[0;31m    [mylist+=i for i in [1,2,3]]\u001b[0m\n\u001b[0m            ^\u001b[0m\n\u001b[0;31mSyntaxError\u001b[0m\u001b[0;31m:\u001b[0m invalid syntax\n"
     ]
    }
   ],
   "source": []
  },
  {
   "cell_type": "code",
   "execution_count": null,
   "metadata": {
    "collapsed": true
   },
   "outputs": [],
   "source": []
  }
 ],
 "metadata": {
  "kernelspec": {
   "display_name": "Python 2",
   "language": "python",
   "name": "python2"
  },
  "language_info": {
   "codemirror_mode": {
    "name": "ipython",
    "version": 2
   },
   "file_extension": ".py",
   "mimetype": "text/x-python",
   "name": "python",
   "nbconvert_exporter": "python",
   "pygments_lexer": "ipython2",
   "version": "2.7.13"
  }
 },
 "nbformat": 4,
 "nbformat_minor": 2
}
